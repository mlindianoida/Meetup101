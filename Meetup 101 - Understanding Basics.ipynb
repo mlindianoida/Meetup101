{
 "cells": [
  {
   "cell_type": "markdown",
   "metadata": {},
   "source": [
    "# Let's Begin!"
   ]
  },
  {
   "cell_type": "markdown",
   "metadata": {},
   "source": [
    "### Prerequisites\n",
    "* **Python 2.7 -** A widely used highlevel programming language for programming\n",
    "* **Numpy -** A scientific computing library within Python. It makes working with N-dimensional arrays very easy\n",
    "* **Matplotlib -** A Python library for plotting and charting\n",
    "* **Jupyter Notebook -** An open-source web app that allows you to create and share documents live with code and text at same time\n",
    "* **Tensorflow -** A framework for performing neural network realated computations using graphs"
   ]
  },
  {
   "cell_type": "markdown",
   "metadata": {},
   "source": [
    "### Important Terminologies In Tensorflow"
   ]
  },
  {
   "cell_type": "code",
   "execution_count": 9,
   "metadata": {
    "collapsed": false
   },
   "outputs": [],
   "source": [
    "import tensorflow as tf"
   ]
  },
  {
   "cell_type": "markdown",
   "metadata": {},
   "source": [
    "### Tensors"
   ]
  },
  {
   "cell_type": "markdown",
   "metadata": {},
   "source": [
    "Central unit of data in Tensorflow\n",
    "\n",
    "Example - \n",
    "* 3.0  is a tensor\n",
    "* [1, 2]  is a 1dimensional array with shape 2 is a tensor\n",
    "* [[1., 2., 3.], [4., 5., 6.]]  is a 2 dimensional array with shape [2, 3] is a tensor"
   ]
  },
  {
   "cell_type": "markdown",
   "metadata": {},
   "source": [
    "### Graphs and Nodes"
   ]
  },
  {
   "cell_type": "markdown",
   "metadata": {},
   "source": [
    "** Computational Graph**\n",
    "Its backbone of tensorflow. Every operation/tensors/computation resides within the Graph\n",
    "\n",
    "Tensorflow program comprises two discrete sections - \n",
    "   *  Building a Graph\n",
    "   *  Running a Graph\n",
    "\n",
    "**  Nodes **\n",
    "Any operations defined inside tensorflow is called a Node. It can be either creating a tensor or performing operations such as a+b\n",
    "\n",
    "Components of Nodes:\n",
    "   *  Tensors\n",
    "   *  Variables\n",
    "   *  Constants\n",
    "   *  Placeholders\n",
    "   *  Operations\n",
    "   \n",
    "** Edges **\n",
    "Connects two nodes. Represents the tensors that flows between connecting nodes.\n"
   ]
  },
  {
   "cell_type": "markdown",
   "metadata": {},
   "source": [
    "<ul>\n",
    "<img src=\"graph.png\">\n",
    "</ul>"
   ]
  },
  {
   "cell_type": "markdown",
   "metadata": {},
   "source": [
    "### Variables and Constants"
   ]
  },
  {
   "cell_type": "markdown",
   "metadata": {},
   "source": [
    "Two simple types of such nodes are - \n",
    "* **Variables** - Ones who's values can be changed\n",
    "* **Constants** - Ones who's values are fixed"
   ]
  },
  {
   "cell_type": "code",
   "execution_count": 10,
   "metadata": {
    "collapsed": false
   },
   "outputs": [
    {
     "name": "stdout",
     "output_type": "stream",
     "text": [
      "Tensor(\"a_1:0\", shape=(), dtype=float32)\n",
      "Tensor(\"b_1:0\", shape=(), dtype=float32)\n",
      "Tensor(\"c_1/read:0\", shape=(), dtype=float32)\n"
     ]
    }
   ],
   "source": [
    "a = tf.constant(3.0, name=\"a\")\n",
    "b = tf.constant(4.0, name=\"b\")\n",
    "c = tf.Variable(7.0, name=\"c\")\n",
    "\n",
    "print a\n",
    "print b\n",
    "print c"
   ]
  },
  {
   "cell_type": "markdown",
   "metadata": {},
   "source": [
    "### Session"
   ]
  },
  {
   "cell_type": "markdown",
   "metadata": {},
   "source": [
    "We run the computational Graph within a Session. There are no values and no operations executed until we run a Session.\n",
    "\n",
    "How to execute the graph:\n",
    "   * Create a Session object\n",
    "   * Call its **run()** method passing the value whose output you want to get"
   ]
  },
  {
   "cell_type": "code",
   "execution_count": 11,
   "metadata": {
    "collapsed": false
   },
   "outputs": [
    {
     "name": "stdout",
     "output_type": "stream",
     "text": [
      "3.0\n",
      "3.0 4.0\n"
     ]
    }
   ],
   "source": [
    "with tf.Session() as sess:\n",
    "    print sess.run(a)\n",
    "    a, b = sess.run([a, b])\n",
    "    print a, b"
   ]
  },
  {
   "cell_type": "markdown",
   "metadata": {},
   "source": [
    "### Operations\n",
    "\n",
    "Any computation that we perform is known as operations."
   ]
  },
  {
   "cell_type": "code",
   "execution_count": 12,
   "metadata": {
    "collapsed": false
   },
   "outputs": [
    {
     "name": "stdout",
     "output_type": "stream",
     "text": [
      "Tensor(\"Mul_7:0\", shape=(), dtype=float32)\n",
      "84.0\n"
     ]
    }
   ],
   "source": [
    "add_op = tf.add(a, b)\n",
    "mul_op = tf.multiply(a, b)\n",
    "another_op = tf.multiply(add_op, mul_op)\n",
    "print another_op\n",
    "with tf.Session() as sess:\n",
    "    print sess.run(another_op)"
   ]
  },
  {
   "cell_type": "markdown",
   "metadata": {
    "collapsed": false
   },
   "source": [
    "<img src=\"op.png\">"
   ]
  },
  {
   "cell_type": "markdown",
   "metadata": {},
   "source": [
    "### Placeholders\n",
    "\n",
    "Graph can be parameterized to take external inputs. Just like function parameters in simple programming language."
   ]
  },
  {
   "cell_type": "code",
   "execution_count": 13,
   "metadata": {
    "collapsed": false
   },
   "outputs": [
    {
     "name": "stdout",
     "output_type": "stream",
     "text": [
      "Tensor(\"d:0\", dtype=float32)\n",
      "13.0\n"
     ]
    }
   ],
   "source": [
    "d = tf.placeholder(\"float\", name=\"d\")\n",
    "print d\n",
    "\n",
    "with tf.Session() as sess:\n",
    "    x = sess.run(d, feed_dict={d:13.0})\n",
    "    print x"
   ]
  },
  {
   "cell_type": "markdown",
   "metadata": {},
   "source": [
    "### Variables Again\n",
    "\n",
    "In order to make our model trainable we need to change the values. Its done using variables. However the vaiables are not initialized implicitly. We have to initialize them explicitly during session execution using **global_variables_initializer()**"
   ]
  },
  {
   "cell_type": "code",
   "execution_count": 14,
   "metadata": {
    "collapsed": false
   },
   "outputs": [
    {
     "name": "stdout",
     "output_type": "stream",
     "text": [
      "7.0\n"
     ]
    }
   ],
   "source": [
    "with tf.Session() as sess:\n",
    "    #print sess.run(c)\n",
    "    sess.run(tf.global_variables_initializer())\n",
    "    print sess.run(c)"
   ]
  },
  {
   "cell_type": "markdown",
   "metadata": {},
   "source": [
    "### Optimizers\n",
    "\n",
    "Optimizers are operations that are responsible for:\n",
    "* Performs backpropogation\n",
    "* Updates weight variables slowly"
   ]
  },
  {
   "cell_type": "code",
   "execution_count": null,
   "metadata": {
    "collapsed": false
   },
   "outputs": [],
   "source": [
    "optimizer = tf.train.GradientDescentOptimizer(0.001)\n",
    "train = optimizer.minimize(c)"
   ]
  },
  {
   "cell_type": "markdown",
   "metadata": {},
   "source": [
    "### Tensorflow Basic Terminology"
   ]
  },
  {
   "cell_type": "markdown",
   "metadata": {},
   "source": [
    "* ** Graphs ** - Series of instructions arranged in form of nodes.\n",
    "    * **Node** - Single instruction in tensorflow\n",
    "        * **Tensors** - Central unit of data in tensorflow\n",
    "        * **Variables** - One's whos value can be changed\n",
    "        * **Constants** - One's whos value can is fixed\n",
    "        * **Placeholders** - Accepts inputs at runtime\n",
    "        * **Operations** - Computation in tensorflow\n",
    "    * **Edges** - Connection between two nodes\n",
    "* ** Sessions ** - Responsible for Graph execution\n",
    "* **Optimizers ** - Responsible for slowly changing the weight variables\n",
    "\n"
   ]
  },
  {
   "cell_type": "markdown",
   "metadata": {},
   "source": [
    "# Let's Code!\n",
    "\n",
    "\n",
    "Kindly access hands on notebook here - http://192.168.1.13:8888/notebooks/Meetup%20101%20-%20Study%20Sleep%20Problem.ipynb\n",
    "\n",
    "# WIFI\n",
    "## User - \n",
    "## Password -"
   ]
  },
  {
   "cell_type": "code",
   "execution_count": null,
   "metadata": {
    "collapsed": true
   },
   "outputs": [],
   "source": []
  }
 ],
 "metadata": {
  "kernelspec": {
   "display_name": "Python 2",
   "language": "python",
   "name": "python2"
  },
  "language_info": {
   "codemirror_mode": {
    "name": "ipython",
    "version": 2
   },
   "file_extension": ".py",
   "mimetype": "text/x-python",
   "name": "python",
   "nbconvert_exporter": "python",
   "pygments_lexer": "ipython2",
   "version": "2.7.9"
  }
 },
 "nbformat": 4,
 "nbformat_minor": 2
}
