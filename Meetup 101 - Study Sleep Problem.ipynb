{
 "cells": [
  {
   "cell_type": "markdown",
   "metadata": {},
   "source": [
    "# Study Sleep Problem Using Tensorflow\n",
    "\n",
    "### Prerequisites\n",
    "* **Python 2.7 -** A widely used highlevel programming language for programming\n",
    "* **Numpy -** A scientific computing library within Python. It makes working with N-dimensional arrays very easy\n",
    "* **Matplotlib -** A Python library for plotting and charting\n",
    "* **Jupyter Notebook -** An open-source web app that allows you to create and share documents live with code and text at same time\n",
    "* **Tensorflow -** A framework for performing neural network realated computations using graphs"
   ]
  },
  {
   "cell_type": "code",
   "execution_count": null,
   "metadata": {
    "collapsed": true
   },
   "outputs": [],
   "source": [
    "# importing libraries\n",
    "import tensorflow as tf\n",
    "import numpy as np\n",
    "import math\n",
    "import matplotlib.pyplot as plt\n",
    "import matplotlib.image as mpimg\n",
    "import random\n",
    "%matplotlib inline"
   ]
  },
  {
   "cell_type": "markdown",
   "metadata": {
    "collapsed": false
   },
   "source": [
    "<img src=\"studysleepnetworkfinal.png\">"
   ]
  },
  {
   "cell_type": "code",
   "execution_count": null,
   "metadata": {
    "collapsed": false
   },
   "outputs": [],
   "source": [
    "# loading data for study sleep problem\n",
    "sleep_study_data = np.loadtxt(\"sleep_study.csv\", delimiter=\",\")\n",
    "sleep_study_data_normalized = np.loadtxt(\"sleep_study_normalized.csv\", delimiter=\",\")\n",
    "print sleep_study_data[1:10]\n",
    "#print sleep_study_data_normalized[:10]"
   ]
  },
  {
   "cell_type": "code",
   "execution_count": null,
   "metadata": {
    "collapsed": true
   },
   "outputs": [],
   "source": [
    "# define function for getting data of given batchsize\n",
    "def getData(batch_size):\n",
    "    \"\"\"study, sleep, score data\"\"\"\n",
    "    start_index = random.randint(0, 3000)\n",
    "    end_index = start_index + batch_size\n",
    "    return sleep_study_data_normalized[start_index:end_index]"
   ]
  },
  {
   "cell_type": "markdown",
   "metadata": {},
   "source": [
    "<img src=\"in.png\">"
   ]
  },
  {
   "cell_type": "code",
   "execution_count": null,
   "metadata": {
    "collapsed": false
   },
   "outputs": [],
   "source": [
    "# creating placeholders for input data and final marks\n",
    "inputs = tf.placeholder(\"float\", [None, 2], name=\"inputs\")\n",
    "marks = tf.placeholder(\"float\", [None, 1], name=\"marks\")"
   ]
  },
  {
   "cell_type": "markdown",
   "metadata": {},
   "source": [
    "<img src=\"w1.png\">"
   ]
  },
  {
   "cell_type": "code",
   "execution_count": null,
   "metadata": {
    "collapsed": false
   },
   "outputs": [],
   "source": [
    "# initializing hidden layer weights\n",
    "initial_wHidden = tf.random_uniform([2, 3], -1.0, 1.0)\n",
    "wHidden = tf.Variable(initial_wHidden, name=\"wHidden\", dtype=\"float32\")"
   ]
  },
  {
   "cell_type": "markdown",
   "metadata": {},
   "source": [
    "<img src=\"w2.png\">"
   ]
  },
  {
   "cell_type": "code",
   "execution_count": null,
   "metadata": {
    "collapsed": true
   },
   "outputs": [],
   "source": [
    "# initializing output layer weights\n",
    "initial_wOutput = tf.random_uniform([3, 1], -1.0, 1.0)\n",
    "wOutput = tf.Variable(initial_wOutput, name=\"wOutput\", dtype=\"float32\")"
   ]
  },
  {
   "cell_type": "markdown",
   "metadata": {},
   "source": [
    "<img src=\"layer1.png\">"
   ]
  },
  {
   "cell_type": "code",
   "execution_count": null,
   "metadata": {
    "collapsed": false
   },
   "outputs": [],
   "source": [
    "# starting computation\n",
    "hidden_layer = 1*tf.matmul(inputs, wHidden)"
   ]
  },
  {
   "cell_type": "markdown",
   "metadata": {},
   "source": [
    "<img src=\"layer2.png\">"
   ]
  },
  {
   "cell_type": "code",
   "execution_count": null,
   "metadata": {
    "collapsed": true
   },
   "outputs": [],
   "source": [
    "# apply sigmoid activation on outputs to normalize final output\n",
    "output_layer = tf.sigmoid(tf.matmul(hidden_layer, wOutput))"
   ]
  },
  {
   "cell_type": "code",
   "execution_count": null,
   "metadata": {
    "collapsed": false
   },
   "outputs": [],
   "source": [
    "# calculate loss\n",
    "loss = tf.reduce_mean(tf.abs(output_layer - marks))"
   ]
  },
  {
   "cell_type": "code",
   "execution_count": null,
   "metadata": {
    "collapsed": false
   },
   "outputs": [],
   "source": [
    "# initalize optimizer\n",
    "learning_rate = 0.01\n",
    "optimizer = tf.train.GradientDescentOptimizer(learning_rate)"
   ]
  },
  {
   "cell_type": "code",
   "execution_count": null,
   "metadata": {
    "collapsed": false
   },
   "outputs": [],
   "source": [
    "# final step - optimize i.e apply back propogation step to minimize loss\n",
    "train = optimizer.minimize(loss)"
   ]
  },
  {
   "cell_type": "code",
   "execution_count": null,
   "metadata": {
    "collapsed": false
   },
   "outputs": [],
   "source": [
    "# start a session\n",
    "with tf.Session() as sess:\n",
    "    \n",
    "    # initialize all the weight variables\n",
    "    init_op = tf.global_variables_initializer()\n",
    "    sess.run(init_op)\n",
    "\n",
    "    batch_size = 64\n",
    "    plot_step, plot_loss = [], []\n",
    "    \n",
    "    # start the training process\n",
    "    for i in range(10000):\n",
    "        trainData = getData(batch_size)\n",
    "        train_inputs = trainData[:,:2].astype(\"float32\")\n",
    "        train_marks = trainData[:,2:3].astype(\"float32\")\n",
    "        train_loss, _ = sess.run([loss, train],\n",
    "                                     feed_dict={inputs:train_inputs, marks:train_marks})\n",
    "        \n",
    "        \n",
    "                    \n",
    "        if not i%100:\n",
    "            print \"Step %d - training loss: %g\"%(i, train_loss)\n",
    "            plot_step.append(i)\n",
    "            plot_loss.append(train_loss)\n",
    "    \n",
    "    #saving the model\n",
    "    saver = tf.train.Saver()\n",
    "    saver.save(sess, \"/home/siftr/apus/sleep_study_model.ckpt\")\n",
    "    print \"Model saved!\""
   ]
  },
  {
   "cell_type": "code",
   "execution_count": null,
   "metadata": {
    "collapsed": false,
    "scrolled": true
   },
   "outputs": [],
   "source": [
    "plt.plot(plot_step, plot_loss, linewidth=2.0)\n",
    "plt.ylabel(\"Loss\", )\n",
    "plt.xlabel(\"Step\")\n",
    "plt.show()"
   ]
  },
  {
   "cell_type": "code",
   "execution_count": null,
   "metadata": {
    "collapsed": false
   },
   "outputs": [],
   "source": [
    "# evaluating the trained model\n",
    "with tf.Session() as sess2:\n",
    "    saver = tf.train.Saver()\n",
    "    saver.restore(sess2, \"/home/siftr/apus/sleep_study_model.ckpt\")\n",
    "    \n",
    "    # test input 1\n",
    "    test_inputs = [[16/24., 9/24.]]\n",
    "    pred_marks = sess2.run(output_layer, feed_dict={inputs:test_inputs})\n",
    "    print pred_marks*100\n",
    "    \n",
    "    # test input 2\n",
    "    test_inputs = [[12/24., 1/24.]]\n",
    "    pred_marks = sess2.run(output_layer, feed_dict={inputs:test_inputs})\n",
    "    print pred_marks*100\n",
    "    \n",
    "    # test input 3\n",
    "    test_inputs = [[1/24., 18/24.]]\n",
    "    pred_marks = sess2.run(output_layer, feed_dict={inputs:test_inputs})\n",
    "    print pred_marks*100"
   ]
  },
  {
   "cell_type": "markdown",
   "metadata": {
    "collapsed": true
   },
   "source": [
    "### Steps For Training Any Neural Network"
   ]
  },
  {
   "cell_type": "markdown",
   "metadata": {},
   "source": [
    "* Get the data\n",
    "* Define **Graph**\n",
    "* Define **Loss fucntion**\n",
    "* Define **Optimizer** that performs backpropogation\n",
    "* Define **Session**\n",
    "* Call the **run()** method providing it the data\n",
    "* Save the weights once the network has been trained\n",
    "* Test by restoring weights"
   ]
  },
  {
   "cell_type": "markdown",
   "metadata": {},
   "source": [
    "### Installation Instructions - Ubuntu"
   ]
  },
  {
   "cell_type": "markdown",
   "metadata": {},
   "source": [
    "In order to get this notebook running on you laptop kindly follow these steps:\n",
    "\n",
    "* sudo apt-get update\n",
    "* **Python 2.7 -** Ubuntu comes with python pre-installed\n",
    "* **Numpy - **\n",
    "    * sudo apt-get install python-numpy\n",
    "    * sudo pip install numpy\n",
    "* **Matplotlib -** sudo pip install matplotlib \n",
    "* **Jupyter Notebook -** sudo pip install jupyter\n",
    "* **Tensorflow -** sudo pip install tensorflow"
   ]
  }
 ],
 "metadata": {
  "kernelspec": {
   "display_name": "Python 2",
   "language": "python",
   "name": "python2"
  },
  "language_info": {
   "codemirror_mode": {
    "name": "ipython",
    "version": 2
   },
   "file_extension": ".py",
   "mimetype": "text/x-python",
   "name": "python",
   "nbconvert_exporter": "python",
   "pygments_lexer": "ipython2",
   "version": "2.7.9"
  }
 },
 "nbformat": 4,
 "nbformat_minor": 2
}
