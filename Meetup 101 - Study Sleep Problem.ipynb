{
 "cells": [
  {
   "cell_type": "code",
   "execution_count": 2,
   "metadata": {
    "collapsed": true
   },
   "outputs": [],
   "source": [
    "# importing libraries\n",
    "import tensorflow as tf\n",
    "import numpy as np\n",
    "import math\n",
    "import matplotlib.pyplot as plt\n",
    "import matplotlib.image as mpimg\n",
    "import random\n",
    "%matplotlib inline"
   ]
  },
  {
   "cell_type": "markdown",
   "metadata": {
    "collapsed": false
   },
   "source": [
    "<img src=\"studysleepnetworkfinal.png\">"
   ]
  },
  {
   "cell_type": "code",
   "execution_count": 3,
   "metadata": {
    "collapsed": false
   },
   "outputs": [
    {
     "name": "stdout",
     "output_type": "stream",
     "text": [
      "[[  5.   8.  55.]\n",
      " [  3.  12.  23.]\n",
      " [  4.   9.  82.]\n",
      " [ 10.   4.  99.]\n",
      " [ 10.   3.  92.]\n",
      " [  2.  13.  36.]\n",
      " [ 11.   3.  87.]\n",
      " [  6.   8.  75.]\n",
      " [  8.   3.  95.]]\n"
     ]
    }
   ],
   "source": [
    "# loading data for study sleep problem\n",
    "sleep_study_data = np.loadtxt(\"sleep_study.csv\", delimiter=\",\")\n",
    "sleep_study_data_normalized = np.loadtxt(\"sleep_study_normalized.csv\", delimiter=\",\")\n",
    "print sleep_study_data[1:10]\n",
    "#print sleep_study_data_normalized[:10]"
   ]
  },
  {
   "cell_type": "code",
   "execution_count": 4,
   "metadata": {
    "collapsed": true
   },
   "outputs": [],
   "source": [
    "# define function for getting data of given batchsize\n",
    "def getData(batch_size):\n",
    "    \"\"\"study, sleep, score data\"\"\"\n",
    "    start_index = random.randint(0, 3000)\n",
    "    end_index = start_index + batch_size\n",
    "    return sleep_study_data_normalized[start_index:end_index]"
   ]
  },
  {
   "cell_type": "markdown",
   "metadata": {},
   "source": [
    "<img src=\"in.png\">"
   ]
  },
  {
   "cell_type": "code",
   "execution_count": 5,
   "metadata": {
    "collapsed": false
   },
   "outputs": [],
   "source": [
    "# creating placeholders for input data and final marks\n",
    "inputs = tf.placeholder(\"float\", [None, 2], name=\"inputs\")\n",
    "marks = tf.placeholder(\"float\", [None, 1], name=\"marks\")"
   ]
  },
  {
   "cell_type": "markdown",
   "metadata": {},
   "source": [
    "<img src=\"w1.png\">"
   ]
  },
  {
   "cell_type": "code",
   "execution_count": 6,
   "metadata": {
    "collapsed": false
   },
   "outputs": [],
   "source": [
    "# initializing hidden layer weights\n",
    "initial_wHidden = tf.random_uniform([2, 3], -1.0, 1.0)\n",
    "wHidden = tf.Variable(initial_wHidden, name=\"wHidden\", dtype=\"float32\")"
   ]
  },
  {
   "cell_type": "markdown",
   "metadata": {},
   "source": [
    "<img src=\"w2.png\">"
   ]
  },
  {
   "cell_type": "code",
   "execution_count": 7,
   "metadata": {
    "collapsed": true
   },
   "outputs": [],
   "source": [
    "# initializing output layer weights\n",
    "initial_wOutput = tf.random_uniform([3, 1], -1.0, 1.0)\n",
    "wOutput = tf.Variable(initial_wOutput, name=\"wOutput\", dtype=\"float32\")"
   ]
  },
  {
   "cell_type": "markdown",
   "metadata": {},
   "source": [
    "<img src=\"layer1.png\">"
   ]
  },
  {
   "cell_type": "code",
   "execution_count": 8,
   "metadata": {
    "collapsed": false
   },
   "outputs": [],
   "source": [
    "# starting computation\n",
    "hidden_layer = 1*tf.matmul(inputs, wHidden)"
   ]
  },
  {
   "cell_type": "markdown",
   "metadata": {},
   "source": [
    "<img src=\"layer2.png\">"
   ]
  },
  {
   "cell_type": "code",
   "execution_count": 9,
   "metadata": {
    "collapsed": true
   },
   "outputs": [],
   "source": [
    "# apply sigmoid activation on outputs to normalize final output\n",
    "output_layer = tf.sigmoid(tf.matmul(hidden_layer, wOutput))"
   ]
  },
  {
   "cell_type": "code",
   "execution_count": 10,
   "metadata": {
    "collapsed": false
   },
   "outputs": [],
   "source": [
    "# calculate loss\n",
    "loss = tf.reduce_mean(tf.abs(output_layer - marks))"
   ]
  },
  {
   "cell_type": "code",
   "execution_count": 11,
   "metadata": {
    "collapsed": false
   },
   "outputs": [],
   "source": [
    "# initalize optimizer\n",
    "learning_rate = 0.01\n",
    "optimizer = tf.train.GradientDescentOptimizer(learning_rate)"
   ]
  },
  {
   "cell_type": "code",
   "execution_count": 12,
   "metadata": {
    "collapsed": false
   },
   "outputs": [],
   "source": [
    "# final step - optimize i.e apply back propogation step to minimize loss\n",
    "train = optimizer.minimize(loss)"
   ]
  },
  {
   "cell_type": "code",
   "execution_count": 13,
   "metadata": {
    "collapsed": false
   },
   "outputs": [
    {
     "name": "stdout",
     "output_type": "stream",
     "text": [
      "Step 0 - training loss: 0.259979\n",
      "Step 100 - training loss: 0.290858\n",
      "Step 200 - training loss: 0.323539\n",
      "Step 300 - training loss: 0.312336\n",
      "Step 400 - training loss: 0.281918\n",
      "Step 500 - training loss: 0.259343\n",
      "Step 600 - training loss: 0.304393\n",
      "Step 700 - training loss: 0.287111\n",
      "Step 800 - training loss: 0.31671\n",
      "Step 900 - training loss: 0.299398\n",
      "Step 1000 - training loss: 0.243279\n",
      "Step 1100 - training loss: 0.288045\n",
      "Step 1200 - training loss: 0.281426\n",
      "Step 1300 - training loss: 0.254851\n",
      "Step 1400 - training loss: 0.298024\n",
      "Step 1500 - training loss: 0.283139\n",
      "Step 1600 - training loss: 0.285355\n",
      "Step 1700 - training loss: 0.276415\n",
      "Step 1800 - training loss: 0.268272\n",
      "Step 1900 - training loss: 0.295255\n",
      "Step 2000 - training loss: 0.279683\n",
      "Step 2100 - training loss: 0.287573\n",
      "Step 2200 - training loss: 0.271989\n",
      "Step 2300 - training loss: 0.265052\n",
      "Step 2400 - training loss: 0.246748\n",
      "Step 2500 - training loss: 0.28324\n",
      "Step 2600 - training loss: 0.241513\n",
      "Step 2700 - training loss: 0.287079\n",
      "Step 2800 - training loss: 0.272884\n",
      "Step 2900 - training loss: 0.26267\n",
      "Step 3000 - training loss: 0.273847\n",
      "Step 3100 - training loss: 0.282547\n",
      "Step 3200 - training loss: 0.25746\n",
      "Step 3300 - training loss: 0.285965\n",
      "Step 3400 - training loss: 0.24587\n",
      "Step 3500 - training loss: 0.288787\n",
      "Step 3600 - training loss: 0.284208\n",
      "Step 3700 - training loss: 0.272032\n",
      "Step 3800 - training loss: 0.231755\n",
      "Step 3900 - training loss: 0.270241\n",
      "Step 4000 - training loss: 0.281939\n",
      "Step 4100 - training loss: 0.237456\n",
      "Step 4200 - training loss: 0.243201\n",
      "Step 4300 - training loss: 0.229904\n",
      "Step 4400 - training loss: 0.269404\n",
      "Step 4500 - training loss: 0.271625\n",
      "Step 4600 - training loss: 0.266257\n",
      "Step 4700 - training loss: 0.244478\n",
      "Step 4800 - training loss: 0.260847\n",
      "Step 4900 - training loss: 0.245481\n",
      "Step 5000 - training loss: 0.294051\n",
      "Step 5100 - training loss: 0.240551\n",
      "Step 5200 - training loss: 0.25276\n",
      "Step 5300 - training loss: 0.233919\n",
      "Step 5400 - training loss: 0.259105\n",
      "Step 5500 - training loss: 0.223835\n",
      "Step 5600 - training loss: 0.256048\n",
      "Step 5700 - training loss: 0.216668\n",
      "Step 5800 - training loss: 0.210763\n",
      "Step 5900 - training loss: 0.236717\n",
      "Step 6000 - training loss: 0.223668\n",
      "Step 6100 - training loss: 0.224661\n",
      "Step 6200 - training loss: 0.202502\n",
      "Step 6300 - training loss: 0.210548\n",
      "Step 6400 - training loss: 0.201545\n",
      "Step 6500 - training loss: 0.199409\n",
      "Step 6600 - training loss: 0.229551\n",
      "Step 6700 - training loss: 0.199986\n",
      "Step 6800 - training loss: 0.192014\n",
      "Step 6900 - training loss: 0.193336\n",
      "Step 7000 - training loss: 0.187816\n",
      "Step 7100 - training loss: 0.184806\n",
      "Step 7200 - training loss: 0.206936\n",
      "Step 7300 - training loss: 0.181122\n",
      "Step 7400 - training loss: 0.153438\n",
      "Step 7500 - training loss: 0.166494\n",
      "Step 7600 - training loss: 0.157135\n",
      "Step 7700 - training loss: 0.165099\n",
      "Step 7800 - training loss: 0.159939\n",
      "Step 7900 - training loss: 0.146841\n",
      "Step 8000 - training loss: 0.158032\n",
      "Step 8100 - training loss: 0.147321\n",
      "Step 8200 - training loss: 0.138171\n",
      "Step 8300 - training loss: 0.159402\n",
      "Step 8400 - training loss: 0.118712\n",
      "Step 8500 - training loss: 0.124053\n",
      "Step 8600 - training loss: 0.128325\n",
      "Step 8700 - training loss: 0.128463\n",
      "Step 8800 - training loss: 0.116094\n",
      "Step 8900 - training loss: 0.104721\n",
      "Step 9000 - training loss: 0.110217\n",
      "Step 9100 - training loss: 0.10983\n",
      "Step 9200 - training loss: 0.0946411\n",
      "Step 9300 - training loss: 0.100916\n",
      "Step 9400 - training loss: 0.138427\n",
      "Step 9500 - training loss: 0.09881\n",
      "Step 9600 - training loss: 0.11057\n",
      "Step 9700 - training loss: 0.103952\n",
      "Step 9800 - training loss: 0.105841\n",
      "Step 9900 - training loss: 0.102641\n"
     ]
    }
   ],
   "source": [
    "# start a session\n",
    "with tf.Session() as sess:\n",
    "    \n",
    "    # initialize all the weight variables\n",
    "    init_op = tf.global_variables_initializer()\n",
    "    sess.run(init_op)\n",
    "\n",
    "    batch_size = 64\n",
    "    plot_step, plot_loss = [], []\n",
    "    \n",
    "    # start the training process\n",
    "    for i in range(10000):\n",
    "        trainData = getData(batch_size)\n",
    "        train_inputs = trainData[:,:2].astype(\"float32\")\n",
    "        train_marks = trainData[:,2:3].astype(\"float32\")\n",
    "        train_loss, _ = sess.run([loss, train],\n",
    "                                     feed_dict={inputs:train_inputs, marks:train_marks})\n",
    "        \n",
    "        \n",
    "                    \n",
    "        if not i%100:\n",
    "            print \"Step %d - training loss: %g\"%(i, train_loss)\n",
    "            plot_step.append(i)\n",
    "            plot_loss.append(train_loss)\n",
    "    \n",
    "    # saving the model\n",
    "    #saver = tf.train.Saver()\n",
    "    #saver.save(sess, \"/home/siftr/apus/sleep_study_model.ckpt\")\n",
    "    #print \"Model saved!\""
   ]
  },
  {
   "cell_type": "code",
   "execution_count": 14,
   "metadata": {
    "collapsed": false,
    "scrolled": true
   },
   "outputs": [
    {
     "data": {
      "image/png": "[encoded data removed]",
      "text/plain": [
       "<matplotlib.figure.Figure at 0x7fb3d7829ed0>"
      ]
     },
     "metadata": {},
     "output_type": "display_data"
    }
   ],
   "source": [
    "plt.plot(plot_step, plot_loss, linewidth=2.0)\n",
    "plt.ylabel(\"Loss\", )\n",
    "plt.xlabel(\"Step\")\n",
    "plt.show()"
   ]
  },
  {
   "cell_type": "code",
   "execution_count": 15,
   "metadata": {
    "collapsed": false
   },
   "outputs": [
    {
     "name": "stdout",
     "output_type": "stream",
     "text": [
      "INFO:tensorflow:Restoring parameters from /home/siftr/apus/sleep_study_model.ckpt\n",
      "[[ 82.48294067]]\n",
      "[[ 76.34546661]]\n",
      "[[ 51.6885643]]\n"
     ]
    }
   ],
   "source": [
    "# evaluating the trained model\n",
    "with tf.Session() as sess2:\n",
    "    saver = tf.train.Saver()\n",
    "    saver.restore(sess2, \"/home/siftr/apus/sleep_study_model.ckpt\")\n",
    "    \n",
    "    # test input 1\n",
    "    test_inputs = [[16/24., 9/24.]]\n",
    "    pred_marks = sess2.run(output_layer, feed_dict={inputs:test_inputs})\n",
    "    print pred_marks*100\n",
    "    \n",
    "    # test input 2\n",
    "    test_inputs = [[12/24., 1/24.]]\n",
    "    pred_marks = sess2.run(output_layer, feed_dict={inputs:test_inputs})\n",
    "    print pred_marks*100\n",
    "    \n",
    "    # test input 3\n",
    "    test_inputs = [[1/24., 18/24.]]\n",
    "    pred_marks = sess2.run(output_layer, feed_dict={inputs:test_inputs})\n",
    "    print pred_marks*100"
   ]
  },
  {
   "cell_type": "markdown",
   "metadata": {
    "collapsed": true
   },
   "source": [
    "### Steps For Training Any Neural Network"
   ]
  },
  {
   "cell_type": "markdown",
   "metadata": {},
   "source": [
    "* Get the data\n",
    "* Define **Graph**\n",
    "* Define **Loss fucntion**\n",
    "* Define **Optimizer** that performs backpropogation\n",
    "* Define **Session**\n",
    "* Call the **run()** method providing it the data\n",
    "* Save the weights once the network has been trained\n",
    "* Test by restoring weights"
   ]
  },
  {
   "cell_type": "markdown",
   "metadata": {},
   "source": [
    "### Installation Instructions - Ubuntu"
   ]
  },
  {
   "cell_type": "markdown",
   "metadata": {},
   "source": [
    "In order to get this notebook running on you laptop kindly follow these steps:\n",
    "\n",
    "* sudo apt-get update\n",
    "* **Python 2.7 -** Ubuntu comes with python pre-installed\n",
    "* **Numpy - **\n",
    "    * sudo apt-get install python-numpy\n",
    "    * sudo pip install numpy\n",
    "* **Matplotlib -** sudo pip install matplotlib \n",
    "* **Jupyter Notebook -** sudo pip install jupyter\n",
    "* **Tensorflow -** sudo pip install tensorflow"
   ]
  },
  {
   "cell_type": "code",
   "execution_count": null,
   "metadata": {
    "collapsed": true
   },
   "outputs": [],
   "source": []
  }
 ],
 "metadata": {
  "kernelspec": {
   "display_name": "Python 2",
   "language": "python",
   "name": "python2"
  },
  "language_info": {
   "codemirror_mode": {
    "name": "ipython",
    "version": 2
   },
   "file_extension": ".py",
   "mimetype": "text/x-python",
   "name": "python",
   "nbconvert_exporter": "python",
   "pygments_lexer": "ipython2",
   "version": "2.7.9"
  }
 },
 "nbformat": 4,
 "nbformat_minor": 2
}
